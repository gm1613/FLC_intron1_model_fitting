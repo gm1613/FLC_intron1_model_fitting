{
 "cells": [
  {
   "cell_type": "code",
   "execution_count": 2,
   "metadata": {},
   "outputs": [],
   "source": [
    "import numpy as np"
   ]
  },
  {
   "cell_type": "markdown",
   "metadata": {},
   "source": [
    "___Calculating FLC mRNA decay rates from smFISH data___"
   ]
  },
  {
   "cell_type": "markdown",
   "metadata": {},
   "source": [
    "_NV timepoint_"
   ]
  },
  {
   "cell_type": "code",
   "execution_count": 7,
   "metadata": {},
   "outputs": [
    {
     "name": "stdout",
     "output_type": "stream",
     "text": [
      "k_flc = 0.267 +/- 0.035\n",
      "t_half_flc = 2.594 +/- 0.340\n",
      "k_pp2a = 0.460 +/- 0.097\n",
      "t_half_pp2a = 1.505 +/- 0.318\n"
     ]
    }
   ],
   "source": [
    "# Mean values (foci per micron squared per cell)\n",
    "flc_mean_6h = 0.225878\n",
    "pp2a_mean_6h = 0.02382859\n",
    "\n",
    "flc_mean_4h = 0.385443568\n",
    "pp2a_mean_4h = 0.059848866\n",
    "\n",
    "# Standard error of the mean (n=71 for 4h and n=46 for 6h)\n",
    "flc_sem_6h = 0.01373583\n",
    "pp2a_sem_6h = 0.002952477\n",
    "\n",
    "flc_sem_4h = 0.013465227\n",
    "pp2a_sem_4h = 0.009000419\n",
    "\n",
    "k_mean_flc = 0.5*np.log(flc_mean_4h/flc_mean_6h)\n",
    "k_sem_flc = 0.5*np.sqrt((flc_sem_4h/flc_mean_4h)**2 + (flc_sem_6h/flc_mean_6h)**2)\n",
    "\n",
    "print(\"k_flc = {:.3f} +/- {:.3f}\".format(k_mean_flc, k_sem_flc))\n",
    "\n",
    "t_half_mean_flc = np.log(2)/k_mean_flc\n",
    "t_half_sem_flc = t_half_mean_flc*k_sem_flc/k_mean_flc\n",
    "\n",
    "print(\"t_half_flc = {:.3f} +/- {:.3f}\".format(t_half_mean_flc, t_half_sem_flc))\n",
    "\n",
    "k_mean_pp2a = 0.5*np.log(pp2a_mean_4h/pp2a_mean_6h)\n",
    "k_sem_pp2a = 0.5*np.sqrt((pp2a_sem_4h/pp2a_mean_4h)**2 + (pp2a_sem_6h/pp2a_mean_6h)**2)\n",
    "\n",
    "print(\"k_pp2a = {:.3f} +/- {:.3f}\".format(k_mean_pp2a, k_sem_pp2a))\n",
    "\n",
    "t_half_mean_pp2a = np.log(2)/k_mean_pp2a\n",
    "t_half_sem_pp2a = t_half_mean_pp2a*k_sem_pp2a/k_mean_pp2a\n",
    "\n",
    "print(\"t_half_pp2a = {:.3f} +/- {:.3f}\".format(t_half_mean_pp2a, t_half_sem_pp2a))\n",
    "\n"
   ]
  },
  {
   "cell_type": "markdown",
   "metadata": {},
   "source": [
    "_Cold (1W) Timepoint_"
   ]
  },
  {
   "cell_type": "code",
   "execution_count": 13,
   "metadata": {},
   "outputs": [
    {
     "name": "stdout",
     "output_type": "stream",
     "text": [
      "k_flc = 0.238 +/- 0.061\n",
      "t_half_flc = 2.915 +/- 0.744\n",
      "k_pp2a = 0.689 +/- 0.136\n",
      "t_half_pp2a = 1.007 +/- 0.200\n"
     ]
    }
   ],
   "source": [
    "# Mean values (foci per micron squared per cell)\n",
    "flc_mean_6h = 0.113128961\n",
    "pp2a_mean_6h = 0.008075453\n",
    "\n",
    "flc_mean_4h = 0.182004088\n",
    "pp2a_mean_4h = 0.032006567\n",
    "\n",
    "# Standard error of the mean (n=71 for 4h and n=46 for 6h)\n",
    "flc_sem_6h = 0.012323691\n",
    "pp2a_sem_6h = 0.002010134\n",
    "\n",
    "flc_sem_4h = 0.009731501\n",
    "pp2a_sem_4h = 0.003584625\n",
    "\n",
    "k_mean_flc = 0.5*np.log(flc_mean_4h/flc_mean_6h)\n",
    "k_sem_flc = 0.5*np.sqrt((flc_sem_4h/flc_mean_4h)**2 + (flc_sem_6h/flc_mean_6h)**2)\n",
    "\n",
    "print(\"k_flc = {:.3f} +/- {:.3f}\".format(k_mean_flc, k_sem_flc))\n",
    "\n",
    "t_half_mean_flc = np.log(2)/k_mean_flc\n",
    "t_half_sem_flc = t_half_mean_flc*k_sem_flc/k_mean_flc\n",
    "\n",
    "print(\"t_half_flc = {:.3f} +/- {:.3f}\".format(t_half_mean_flc, t_half_sem_flc))\n",
    "\n",
    "k_mean_pp2a = 0.5*np.log(pp2a_mean_4h/pp2a_mean_6h)\n",
    "k_sem_pp2a = 0.5*np.sqrt((pp2a_sem_4h/pp2a_mean_4h)**2 + (pp2a_sem_6h/pp2a_mean_6h)**2)\n",
    "\n",
    "print(\"k_pp2a = {:.3f} +/- {:.3f}\".format(k_mean_pp2a, k_sem_pp2a))\n",
    "\n",
    "t_half_mean_pp2a = np.log(2)/k_mean_pp2a\n",
    "t_half_sem_pp2a = t_half_mean_pp2a*k_sem_pp2a/k_mean_pp2a\n",
    "\n",
    "print(\"t_half_pp2a = {:.3f} +/- {:.3f}\".format(t_half_mean_pp2a, t_half_sem_pp2a))\n",
    "\n",
    "j = np.log(2)"
   ]
  }
 ],
 "metadata": {
  "kernelspec": {
   "display_name": "base",
   "language": "python",
   "name": "python3"
  },
  "language_info": {
   "codemirror_mode": {
    "name": "ipython",
    "version": 3
   },
   "file_extension": ".py",
   "mimetype": "text/x-python",
   "name": "python",
   "nbconvert_exporter": "python",
   "pygments_lexer": "ipython3",
   "version": "3.12.7"
  }
 },
 "nbformat": 4,
 "nbformat_minor": 2
}
